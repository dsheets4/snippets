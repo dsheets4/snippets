{
 "cells": [
  {
   "cell_type": "code",
   "execution_count": 1,
   "metadata": {},
   "outputs": [],
   "source": [
    "# Create a simple test DataFrame\n",
    "import pandas as pd\n",
    "\n",
    "col1 = [1, 3, 5, 2, 7, 3, 8, 4]\n",
    "col2 = [3, 2, 4, 1, 7, 6, 8, 5]\n",
    "\n",
    "df = pd.DataFrame([{'idx': i, 'col1': v1, 'col2': v2} for (i,v1,v2) in zip(range(len(col1)), col1, col2)])\n",
    "long_df = df.melt(id_vars=['idx'], var_name='var', value_name='val')"
   ]
  },
  {
   "cell_type": "code",
   "execution_count": 2,
   "metadata": {},
   "outputs": [
    {
     "data": {
      "text/html": [
       "\n",
       "<div id=\"altair-viz-9b62f1de7d50440f84ba9d2d2d1112aa\"></div>\n",
       "<script type=\"text/javascript\">\n",
       "  (function(spec, embedOpt){\n",
       "    let outputDiv = document.currentScript.previousElementSibling;\n",
       "    if (outputDiv.id !== \"altair-viz-9b62f1de7d50440f84ba9d2d2d1112aa\") {\n",
       "      outputDiv = document.getElementById(\"altair-viz-9b62f1de7d50440f84ba9d2d2d1112aa\");\n",
       "    }\n",
       "    const paths = {\n",
       "      \"vega\": \"https://cdn.jsdelivr.net/npm//vega@5?noext\",\n",
       "      \"vega-lib\": \"https://cdn.jsdelivr.net/npm//vega-lib?noext\",\n",
       "      \"vega-lite\": \"https://cdn.jsdelivr.net/npm//vega-lite@4.8.1?noext\",\n",
       "      \"vega-embed\": \"https://cdn.jsdelivr.net/npm//vega-embed@6?noext\",\n",
       "    };\n",
       "\n",
       "    function loadScript(lib) {\n",
       "      return new Promise(function(resolve, reject) {\n",
       "        var s = document.createElement('script');\n",
       "        s.src = paths[lib];\n",
       "        s.async = true;\n",
       "        s.onload = () => resolve(paths[lib]);\n",
       "        s.onerror = () => reject(`Error loading script: ${paths[lib]}`);\n",
       "        document.getElementsByTagName(\"head\")[0].appendChild(s);\n",
       "      });\n",
       "    }\n",
       "\n",
       "    function showError(err) {\n",
       "      outputDiv.innerHTML = `<div class=\"error\" style=\"color:red;\">${err}</div>`;\n",
       "      throw err;\n",
       "    }\n",
       "\n",
       "    function displayChart(vegaEmbed) {\n",
       "      vegaEmbed(outputDiv, spec, embedOpt)\n",
       "        .catch(err => showError(`Javascript Error: ${err.message}<br>This usually means there's a typo in your chart specification. See the javascript console for the full traceback.`));\n",
       "    }\n",
       "\n",
       "    if(typeof define === \"function\" && define.amd) {\n",
       "      requirejs.config({paths});\n",
       "      require([\"vega-embed\"], displayChart, err => showError(`Error loading script: ${err.message}`));\n",
       "    } else if (typeof vegaEmbed === \"function\") {\n",
       "      displayChart(vegaEmbed);\n",
       "    } else {\n",
       "      loadScript(\"vega\")\n",
       "        .then(() => loadScript(\"vega-lite\"))\n",
       "        .then(() => loadScript(\"vega-embed\"))\n",
       "        .catch(showError)\n",
       "        .then(() => displayChart(vegaEmbed));\n",
       "    }\n",
       "  })({\"config\": {\"view\": {\"continuousWidth\": 400, \"continuousHeight\": 300}}, \"data\": {\"name\": \"data-8fc9dc7a50e0f63ea5494b532b1d8059\"}, \"mark\": \"line\", \"encoding\": {\"color\": {\"type\": \"nominal\", \"field\": \"var\"}, \"x\": {\"type\": \"quantitative\", \"field\": \"idx\"}, \"y\": {\"type\": \"quantitative\", \"field\": \"val\"}}, \"$schema\": \"https://vega.github.io/schema/vega-lite/v4.8.1.json\", \"datasets\": {\"data-8fc9dc7a50e0f63ea5494b532b1d8059\": [{\"idx\": 0, \"var\": \"col1\", \"val\": 1}, {\"idx\": 1, \"var\": \"col1\", \"val\": 3}, {\"idx\": 2, \"var\": \"col1\", \"val\": 5}, {\"idx\": 3, \"var\": \"col1\", \"val\": 2}, {\"idx\": 4, \"var\": \"col1\", \"val\": 7}, {\"idx\": 5, \"var\": \"col1\", \"val\": 3}, {\"idx\": 6, \"var\": \"col1\", \"val\": 8}, {\"idx\": 7, \"var\": \"col1\", \"val\": 4}, {\"idx\": 0, \"var\": \"col2\", \"val\": 3}, {\"idx\": 1, \"var\": \"col2\", \"val\": 2}, {\"idx\": 2, \"var\": \"col2\", \"val\": 4}, {\"idx\": 3, \"var\": \"col2\", \"val\": 1}, {\"idx\": 4, \"var\": \"col2\", \"val\": 7}, {\"idx\": 5, \"var\": \"col2\", \"val\": 6}, {\"idx\": 6, \"var\": \"col2\", \"val\": 8}, {\"idx\": 7, \"var\": \"col2\", \"val\": 5}]}}, {\"mode\": \"vega-lite\"});\n",
       "</script>"
      ],
      "text/plain": [
       "alt.Chart(...)"
      ]
     },
     "execution_count": 2,
     "metadata": {},
     "output_type": "execute_result"
    }
   ],
   "source": [
    "# View the plotted DataFrame\n",
    "import altair as alt\n",
    "from IPython.display import display\n",
    "\n",
    "chart = alt.Chart(long_df).mark_line().encode(\n",
    "    x=alt.X('idx'),\n",
    "    y=alt.Y('val'),\n",
    "    color=alt.Color('var'),\n",
    ")\n",
    "chart"
   ]
  },
  {
   "cell_type": "code",
   "execution_count": 3,
   "metadata": {},
   "outputs": [
    {
     "data": {
      "text/plain": [
       "{'config': {'view': {'continuousWidth': 400, 'continuousHeight': 300}},\n",
       " 'data': {'name': 'data-8fc9dc7a50e0f63ea5494b532b1d8059'},\n",
       " 'mark': 'line',\n",
       " 'encoding': {'color': {'type': 'nominal', 'field': 'var'},\n",
       "  'x': {'type': 'quantitative', 'field': 'idx'},\n",
       "  'y': {'type': 'quantitative', 'field': 'val'}},\n",
       " '$schema': 'https://vega.github.io/schema/vega-lite/v4.8.1.json',\n",
       " 'datasets': {'data-8fc9dc7a50e0f63ea5494b532b1d8059': [{'idx': 0,\n",
       "    'var': 'col1',\n",
       "    'val': 1},\n",
       "   {'idx': 1, 'var': 'col1', 'val': 3},\n",
       "   {'idx': 2, 'var': 'col1', 'val': 5},\n",
       "   {'idx': 3, 'var': 'col1', 'val': 2},\n",
       "   {'idx': 4, 'var': 'col1', 'val': 7},\n",
       "   {'idx': 5, 'var': 'col1', 'val': 3},\n",
       "   {'idx': 6, 'var': 'col1', 'val': 8},\n",
       "   {'idx': 7, 'var': 'col1', 'val': 4},\n",
       "   {'idx': 0, 'var': 'col2', 'val': 3},\n",
       "   {'idx': 1, 'var': 'col2', 'val': 2},\n",
       "   {'idx': 2, 'var': 'col2', 'val': 4},\n",
       "   {'idx': 3, 'var': 'col2', 'val': 1},\n",
       "   {'idx': 4, 'var': 'col2', 'val': 7},\n",
       "   {'idx': 5, 'var': 'col2', 'val': 6},\n",
       "   {'idx': 6, 'var': 'col2', 'val': 8},\n",
       "   {'idx': 7, 'var': 'col2', 'val': 5}]}}"
      ]
     },
     "execution_count": 3,
     "metadata": {},
     "output_type": "execute_result"
    }
   ],
   "source": [
    "# What's the spec look like?\n",
    "chart.to_dict()"
   ]
  },
  {
   "cell_type": "code",
   "execution_count": 4,
   "metadata": {},
   "outputs": [
    {
     "data": {
      "text/plain": [
       "{'config': {'view': {'continuousWidth': 400, 'continuousHeight': 300}},\n",
       " 'data': {'url': '/some/url/path/art?params=col1,col2',\n",
       "  'format': {'type': 'json'}},\n",
       " 'mark': 'line',\n",
       " 'encoding': {'color': {'type': 'nominal', 'field': 'var'},\n",
       "  'x': {'type': 'quantitative', 'field': 'idx'},\n",
       "  'y': {'type': 'quantitative', 'field': 'val'}},\n",
       " '$schema': 'https://vega.github.io/schema/vega-lite/v4.8.1.json'}"
      ]
     },
     "execution_count": 4,
     "metadata": {},
     "output_type": "execute_result"
    }
   ],
   "source": [
    "# That data is specific but the spec is reusable, can we isolate the spec from the data?\n",
    "# Yes, define a data transformer\n",
    "def art_data_transformer(data, url_path='', endpoint='art'):\n",
    "    \n",
    "    columns = data['var'].unique()\n",
    "    uri = f\"{url_path}/{endpoint}?params={','.join(columns)}\"\n",
    "    \n",
    "    return {\"url\": uri, \"format\": {\"type\": \"json\"}}\n",
    "\n",
    "alt.data_transformers.register('art', art_data_transformer)\n",
    "\n",
    "# Altair does lazy spec creation so create and save within the context.\n",
    "with alt.data_transformers.enable('art', url_path='/some/url/path'):\n",
    "    spec = chart.to_dict()\n",
    "spec"
   ]
  },
  {
   "cell_type": "code",
   "execution_count": 5,
   "metadata": {},
   "outputs": [
    {
     "data": {
      "text/html": [
       "\n",
       "<div id=\"altair-viz-4f8b9b8cc9c4464482c884a3edc1c05e\"></div>\n",
       "<script type=\"text/javascript\">\n",
       "  (function(spec, embedOpt){\n",
       "    let outputDiv = document.currentScript.previousElementSibling;\n",
       "    if (outputDiv.id !== \"altair-viz-4f8b9b8cc9c4464482c884a3edc1c05e\") {\n",
       "      outputDiv = document.getElementById(\"altair-viz-4f8b9b8cc9c4464482c884a3edc1c05e\");\n",
       "    }\n",
       "    const paths = {\n",
       "      \"vega\": \"https://cdn.jsdelivr.net/npm//vega@5?noext\",\n",
       "      \"vega-lib\": \"https://cdn.jsdelivr.net/npm//vega-lib?noext\",\n",
       "      \"vega-lite\": \"https://cdn.jsdelivr.net/npm//vega-lite@4.8.1?noext\",\n",
       "      \"vega-embed\": \"https://cdn.jsdelivr.net/npm//vega-embed@6?noext\",\n",
       "    };\n",
       "\n",
       "    function loadScript(lib) {\n",
       "      return new Promise(function(resolve, reject) {\n",
       "        var s = document.createElement('script');\n",
       "        s.src = paths[lib];\n",
       "        s.async = true;\n",
       "        s.onload = () => resolve(paths[lib]);\n",
       "        s.onerror = () => reject(`Error loading script: ${paths[lib]}`);\n",
       "        document.getElementsByTagName(\"head\")[0].appendChild(s);\n",
       "      });\n",
       "    }\n",
       "\n",
       "    function showError(err) {\n",
       "      outputDiv.innerHTML = `<div class=\"error\" style=\"color:red;\">${err}</div>`;\n",
       "      throw err;\n",
       "    }\n",
       "\n",
       "    function displayChart(vegaEmbed) {\n",
       "      vegaEmbed(outputDiv, spec, embedOpt)\n",
       "        .catch(err => showError(`Javascript Error: ${err.message}<br>This usually means there's a typo in your chart specification. See the javascript console for the full traceback.`));\n",
       "    }\n",
       "\n",
       "    if(typeof define === \"function\" && define.amd) {\n",
       "      requirejs.config({paths});\n",
       "      require([\"vega-embed\"], displayChart, err => showError(`Error loading script: ${err.message}`));\n",
       "    } else if (typeof vegaEmbed === \"function\") {\n",
       "      displayChart(vegaEmbed);\n",
       "    } else {\n",
       "      loadScript(\"vega\")\n",
       "        .then(() => loadScript(\"vega-lite\"))\n",
       "        .then(() => loadScript(\"vega-embed\"))\n",
       "        .catch(showError)\n",
       "        .then(() => displayChart(vegaEmbed));\n",
       "    }\n",
       "  })({\"config\": {\"view\": {\"continuousWidth\": 600, \"continuousHeight\": 200}}, \"data\": {\"name\": \"data-8fc9dc7a50e0f63ea5494b532b1d8059\"}, \"mark\": \"line\", \"encoding\": {\"color\": {\"type\": \"nominal\", \"field\": \"var\"}, \"x\": {\"type\": \"quantitative\", \"field\": \"idx\"}, \"y\": {\"type\": \"quantitative\", \"field\": \"val\"}}, \"$schema\": \"https://vega.github.io/schema/vega-lite/v4.8.1.json\", \"datasets\": {\"data-8fc9dc7a50e0f63ea5494b532b1d8059\": [{\"idx\": 0, \"var\": \"col1\", \"val\": 1}, {\"idx\": 1, \"var\": \"col1\", \"val\": 3}, {\"idx\": 2, \"var\": \"col1\", \"val\": 5}, {\"idx\": 3, \"var\": \"col1\", \"val\": 2}, {\"idx\": 4, \"var\": \"col1\", \"val\": 7}, {\"idx\": 5, \"var\": \"col1\", \"val\": 3}, {\"idx\": 6, \"var\": \"col1\", \"val\": 8}, {\"idx\": 7, \"var\": \"col1\", \"val\": 4}, {\"idx\": 0, \"var\": \"col2\", \"val\": 3}, {\"idx\": 1, \"var\": \"col2\", \"val\": 2}, {\"idx\": 2, \"var\": \"col2\", \"val\": 4}, {\"idx\": 3, \"var\": \"col2\", \"val\": 1}, {\"idx\": 4, \"var\": \"col2\", \"val\": 7}, {\"idx\": 5, \"var\": \"col2\", \"val\": 6}, {\"idx\": 6, \"var\": \"col2\", \"val\": 8}, {\"idx\": 7, \"var\": \"col2\", \"val\": 5}]}}, {\"mode\": \"vega-lite\"});\n",
       "</script>"
      ],
      "text/plain": [
       "alt.Chart(...)"
      ]
     },
     "metadata": {},
     "output_type": "display_data"
    },
    {
     "data": {
      "text/plain": [
       "{'config': {'view': {'continuousWidth': 600, 'continuousHeight': 200}},\n",
       " 'data': {'name': 'data-8fc9dc7a50e0f63ea5494b532b1d8059'},\n",
       " 'mark': 'line',\n",
       " 'encoding': {'color': {'type': 'nominal', 'field': 'var'},\n",
       "  'x': {'type': 'quantitative', 'field': 'idx'},\n",
       "  'y': {'type': 'quantitative', 'field': 'val'}},\n",
       " '$schema': 'https://vega.github.io/schema/vega-lite/v4.8.1.json',\n",
       " 'datasets': {'data-8fc9dc7a50e0f63ea5494b532b1d8059': [{'idx': 0,\n",
       "    'var': 'col1',\n",
       "    'val': 1},\n",
       "   {'idx': 1, 'var': 'col1', 'val': 3},\n",
       "   {'idx': 2, 'var': 'col1', 'val': 5},\n",
       "   {'idx': 3, 'var': 'col1', 'val': 2},\n",
       "   {'idx': 4, 'var': 'col1', 'val': 7},\n",
       "   {'idx': 5, 'var': 'col1', 'val': 3},\n",
       "   {'idx': 6, 'var': 'col1', 'val': 8},\n",
       "   {'idx': 7, 'var': 'col1', 'val': 4},\n",
       "   {'idx': 0, 'var': 'col2', 'val': 3},\n",
       "   {'idx': 1, 'var': 'col2', 'val': 2},\n",
       "   {'idx': 2, 'var': 'col2', 'val': 4},\n",
       "   {'idx': 3, 'var': 'col2', 'val': 1},\n",
       "   {'idx': 4, 'var': 'col2', 'val': 7},\n",
       "   {'idx': 5, 'var': 'col2', 'val': 6},\n",
       "   {'idx': 6, 'var': 'col2', 'val': 8},\n",
       "   {'idx': 7, 'var': 'col2', 'val': 5}]}}"
      ]
     },
     "execution_count": 5,
     "metadata": {},
     "output_type": "execute_result"
    }
   ],
   "source": [
    "# We can do similar with the themes.  This is a lot more open.\n",
    "def art_theme(width=600, height=150):\n",
    "    return {\n",
    "        'config': {\n",
    "            'view': {'continuousWidth': width, 'continuousHeight': height,}\n",
    "        }\n",
    "    }\n",
    "alt.themes.register('art', art_theme)\n",
    "\n",
    "with alt.themes.enable('art', height=200):\n",
    "    spec = chart.to_dict()\n",
    "    display(chart)\n",
    "spec  # Height and width should be different."
   ]
  },
  {
   "cell_type": "code",
   "execution_count": 6,
   "metadata": {},
   "outputs": [
    {
     "data": {
      "text/plain": [
       "{'config': {'view': {'continuousWidth': 800, 'continuousHeight': 100}},\n",
       " 'data': {'url': '/art?params=col1,col2', 'format': {'type': 'json'}},\n",
       " 'mark': 'line',\n",
       " 'encoding': {'color': {'type': 'nominal', 'field': 'var'},\n",
       "  'x': {'type': 'quantitative', 'field': 'idx'},\n",
       "  'y': {'type': 'quantitative', 'field': 'val'}},\n",
       " '$schema': 'https://vega.github.io/schema/vega-lite/v4.8.1.json'}"
      ]
     },
     "execution_count": 6,
     "metadata": {},
     "output_type": "execute_result"
    }
   ],
   "source": [
    "# Can also apply both\n",
    "theme_kwargs = {  # Use dictionary and ** to keep context (with) statement cleaner\n",
    "    'width': 800,\n",
    "    'height': 100\n",
    "}\n",
    "\n",
    "# Note that since we messed with the data_transformer, the chart won't work.  Try enabling 'json' though.\n",
    "with alt.themes.enable('art', **theme_kwargs) as theme, alt.data_transformers.enable('art') as data:\n",
    "    spec = chart.to_dict()\n",
    "spec"
   ]
  },
  {
   "cell_type": "code",
   "execution_count": 7,
   "metadata": {},
   "outputs": [
    {
     "data": {
      "text/plain": [
       "{'config': {'view': {'continuousWidth': 400, 'continuousHeight': 300}},\n",
       " 'data': {'name': 'some look-up'},\n",
       " 'mark': 'line',\n",
       " 'encoding': {'color': {'type': 'nominal', 'field': 'var'},\n",
       "  'x': {'type': 'quantitative', 'field': 'idx'},\n",
       "  'y': {'type': 'quantitative', 'field': 'val'}},\n",
       " '$schema': 'https://vega.github.io/schema/vega-lite/v4.8.1.json'}"
      ]
     },
     "execution_count": 7,
     "metadata": {},
     "output_type": "execute_result"
    }
   ],
   "source": [
    "# Altair will also freely pass valid vega-lite data definitions.\n",
    "# https://vega.github.io/vega-lite/docs/data.html\n",
    "data = {\n",
    "    'name': 'some look-up',\n",
    "}\n",
    "chart_json_data = alt.Chart(data).mark_line().encode(\n",
    "    x=alt.X('idx:Q'),\n",
    "    y=alt.Y('val:Q'),\n",
    "    color=alt.Color('var:N'),\n",
    ")\n",
    "chart_json_data.to_dict()"
   ]
  },
  {
   "cell_type": "markdown",
   "metadata": {},
   "source": [
    "All the data methods are intended as direction for vega-lite to access the data.  When using the React Vega object you can pass in a different data definition that will override the one in the spec."
   ]
  }
 ],
 "metadata": {
  "kernelspec": {
   "display_name": "Python 3",
   "language": "python",
   "name": "python3"
  },
  "language_info": {
   "codemirror_mode": {
    "name": "ipython",
    "version": 3
   },
   "file_extension": ".py",
   "mimetype": "text/x-python",
   "name": "python",
   "nbconvert_exporter": "python",
   "pygments_lexer": "ipython3",
   "version": "3.7.6"
  }
 },
 "nbformat": 4,
 "nbformat_minor": 4
}
